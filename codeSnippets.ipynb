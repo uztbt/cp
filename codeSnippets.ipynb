{
 "metadata": {
  "language_info": {
   "codemirror_mode": {
    "name": "ipython",
    "version": 3
   },
   "file_extension": ".py",
   "mimetype": "text/x-python",
   "name": "python",
   "nbconvert_exporter": "python",
   "pygments_lexer": "ipython3",
   "version": "3.9.1-final"
  },
  "orig_nbformat": 2,
  "kernelspec": {
   "name": "python3",
   "display_name": "Python 3.9.1 64-bit",
   "metadata": {
    "interpreter": {
     "hash": "ac2eaa0ea0ebeafcc7822e65e46aa9d4f966f30b695406963e145ea4a91cd4fc"
    }
   }
  }
 },
 "nbformat": 4,
 "nbformat_minor": 2,
 "cells": [
  {
   "source": [
    "# Create a map of alphabet"
   ],
   "cell_type": "markdown",
   "metadata": {}
  },
  {
   "source": [
    "codePoints = range(ord(\"a\"), ord(\"z\") + 1)\n",
    "alphabet = map(chr, codePoints)"
   ],
   "cell_type": "code",
   "metadata": {},
   "execution_count": 7,
   "outputs": []
  },
  {
   "source": [
    "# List of Tuples\n",
    "## a += (1, 2) id not a.append((1,2))"
   ],
   "cell_type": "markdown",
   "metadata": {}
  },
  {
   "source": [
    "a = []\n",
    "a += (1, 2)\n",
    "print(a)"
   ],
   "cell_type": "code",
   "metadata": {},
   "execution_count": 2,
   "outputs": [
    {
     "output_type": "stream",
     "name": "stdout",
     "text": [
      "[1, 2]\n"
     ]
    }
   ]
  },
  {
   "cell_type": "code",
   "execution_count": 1,
   "metadata": {},
   "outputs": [
    {
     "output_type": "stream",
     "name": "stdout",
     "text": [
      "[(1, 2)]\n"
     ]
    }
   ],
   "source": [
    "a = []\n",
    "a.append((1, 2))\n",
    "print(a)"
   ]
  },
  {
   "source": [
    "# Types of Divison"
   ],
   "cell_type": "markdown",
   "metadata": {}
  },
  {
   "cell_type": "code",
   "execution_count": 3,
   "metadata": {},
   "outputs": [
    {
     "output_type": "stream",
     "name": "stdout",
     "text": [
      "1.3333333333333333\n1\n"
     ]
    }
   ],
   "source": [
    "print(4/3)\n",
    "print(4//3)"
   ]
  },
  {
   "source": [
    "# Date and Time\n",
    "[Python 3 library, datetime]([https://docs.python.org/3/library/datetime.html#strftime-and-strptime-format-codes](https://docs.python.org/3/library/datetime.html#strftime-and-strptime-format-codes))"
   ],
   "cell_type": "markdown",
   "metadata": {}
  },
  {
   "cell_type": "code",
   "execution_count": 30,
   "metadata": {},
   "outputs": [
    {
     "output_type": "stream",
     "name": "stdout",
     "text": [
      "735000th day since Jan 1st, AC 1: 2013-05-12\nISO format: 2013-05-12\nSlash-delimited format: 12/05/13\nMac's date format: Sunday, May 12, 2013\nC standard format: Sun May 12 00:00:00 2013\nThe day is 12, the month is May.\n"
     ]
    }
   ],
   "source": [
    "from datetime import date\n",
    "d = date.fromordinal(735000) \n",
    "\n",
    "print(\"735000th day since Jan 1st, AC 1:\", d)\n",
    "print(\"ISO format:\", d.isoformat())\n",
    "print(\"Slash-delimited format:\", d.strftime(\"%d/%m/%y\"))\n",
    "print(\"Mac's date format:\", d.strftime(\"%A, %B %d, %Y\"))\n",
    "print(\"C standard format:\", d.ctime())\n",
    "print('The {1} is {0:%d}, the {2} is {0:%B}.'.format(d, 'day', 'month'))"
   ]
  },
  {
   "source": [
    "# Get a Dictionary of Month to Number"
   ],
   "cell_type": "markdown",
   "metadata": {}
  },
  {
   "cell_type": "code",
   "execution_count": 29,
   "metadata": {},
   "outputs": [
    {
     "output_type": "stream",
     "name": "stdout",
     "text": [
      "calendar.month_abbr: <calendar._localized_month object at 0x10a919160>\ncalendar.month_abbr[0]: \ncalendar.month_abbr[1]: Jan\n"
     ]
    },
    {
     "output_type": "execute_result",
     "data": {
      "text/plain": [
       "{'': 0,\n",
       " 'Jan': 1,\n",
       " 'Feb': 2,\n",
       " 'Mar': 3,\n",
       " 'Apr': 4,\n",
       " 'May': 5,\n",
       " 'Jun': 6,\n",
       " 'Jul': 7,\n",
       " 'Aug': 8,\n",
       " 'Sep': 9,\n",
       " 'Oct': 10,\n",
       " 'Nov': 11,\n",
       " 'Dec': 12}"
      ]
     },
     "metadata": {},
     "execution_count": 29
    }
   ],
   "source": [
    "import calendar\n",
    "print(\"calendar.month_abbr:\", calendar.month_abbr)\n",
    "print(\"calendar.month_abbr[0]:\", calendar.month_abbr[0])\n",
    "print(\"calendar.month_abbr[1]:\", calendar.month_abbr[1])\n",
    "{v : k for k, v in enumerate(calendar.month_abbr)}"
   ]
  },
  {
   "source": [
    "# Setting Timezone Offset\n",
    "\n",
    "* When `hours < 0`, minutes **MUST ALSO BE NEGATIVE** (HackerRank: [Time Delta](https://www.hackerrank.com/challenges/python-time-delta/problem))"
   ],
   "cell_type": "markdown",
   "metadata": {}
  },
  {
   "cell_type": "code",
   "execution_count": 35,
   "metadata": {},
   "outputs": [
    {
     "output_type": "execute_result",
     "data": {
      "text/plain": [
       "'2020-12-18T00:00:00-06:39'"
      ]
     },
     "metadata": {},
     "execution_count": 35
    }
   ],
   "source": [
    "from datetime import tzinfo, timedelta, datetime\n",
    "class TZ(tzinfo):\n",
    "    \"\"\"A timezone with an arbitrary, constant -06:39 offset.\"\"\"\n",
    "    def utcoffset(self, dt):\n",
    "        return timedelta(hours=-6, minutes=-39)\n",
    "datetime(2020, 12, 18, tzinfo=TZ()).isoformat()"
   ]
  },
  {
   "source": [
    "# Parsing a String Representing a DateTime\n",
    "* [strftime-strptime-behavior](https://docs.python.org/3/library/datetime.html#strftime-strptime-behavior)"
   ],
   "cell_type": "markdown",
   "metadata": {}
  },
  {
   "cell_type": "code",
   "execution_count": 36,
   "metadata": {},
   "outputs": [
    {
     "output_type": "stream",
     "name": "stdout",
     "text": [
      "2020-12-19T00:00:00\n"
     ]
    }
   ],
   "source": [
    "d = datetime.strptime(\"Saturday, December 19, 2020\", \"%A, %B %d, %Y\")\n",
    "print(d.isoformat())"
   ]
  }
 ]
}