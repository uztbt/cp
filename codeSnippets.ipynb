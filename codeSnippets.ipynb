{
 "metadata": {
  "language_info": {
   "codemirror_mode": {
    "name": "ipython",
    "version": 3
   },
   "file_extension": ".py",
   "mimetype": "text/x-python",
   "name": "python",
   "nbconvert_exporter": "python",
   "pygments_lexer": "ipython3",
   "version": "3.9.2"
  },
  "orig_nbformat": 2,
  "kernelspec": {
   "name": "python3",
   "display_name": "Python 3.9.2 64-bit",
   "metadata": {
    "interpreter": {
     "hash": "ac2eaa0ea0ebeafcc7822e65e46aa9d4f966f30b695406963e145ea4a91cd4fc"
    }
   }
  }
 },
 "nbformat": 4,
 "nbformat_minor": 2,
 "cells": [
  {
   "source": [
    "# Create a map of alphabet"
   ],
   "cell_type": "markdown",
   "metadata": {}
  },
  {
   "source": [
    "codePoints = range(ord(\"a\"), ord(\"z\") + 1)\n",
    "alphabet = map(chr, codePoints)"
   ],
   "cell_type": "code",
   "metadata": {},
   "execution_count": 11,
   "outputs": []
  },
  {
   "source": [
    "# Tuples"
   ],
   "cell_type": "markdown",
   "metadata": {}
  },
  {
   "cell_type": "code",
   "execution_count": 12,
   "metadata": {},
   "outputs": [
    {
     "output_type": "stream",
     "name": "stdout",
     "text": [
      "hoge\n"
     ]
    }
   ],
   "source": [
    "t = (2, \"hoge\")\n",
    "\n",
    "print(t[1])"
   ]
  },
  {
   "source": [
    "## List of Tuples\n",
    "### a += (1, 2) id not a.append((1,2))"
   ],
   "cell_type": "markdown",
   "metadata": {}
  },
  {
   "source": [
    "a = []\n",
    "a += (1, 2)\n",
    "print(a)"
   ],
   "cell_type": "code",
   "metadata": {},
   "execution_count": 13,
   "outputs": [
    {
     "output_type": "stream",
     "name": "stdout",
     "text": [
      "[1, 2]\n"
     ]
    }
   ]
  },
  {
   "cell_type": "code",
   "execution_count": 14,
   "metadata": {},
   "outputs": [
    {
     "output_type": "stream",
     "name": "stdout",
     "text": [
      "[(1, 2)]\n"
     ]
    }
   ],
   "source": [
    "a = []\n",
    "a.append((1, 2))\n",
    "print(a)"
   ]
  },
  {
   "source": [
    "# Types of Divison"
   ],
   "cell_type": "markdown",
   "metadata": {}
  },
  {
   "cell_type": "code",
   "execution_count": 15,
   "metadata": {},
   "outputs": [
    {
     "output_type": "stream",
     "name": "stdout",
     "text": [
      "1.3333333333333333\n1\n"
     ]
    }
   ],
   "source": [
    "print(4/3)\n",
    "print(4//3)"
   ]
  },
  {
   "source": [
    "# Date and Time\n",
    "[Python 3 library, datetime]([https://docs.python.org/3/library/datetime.html#strftime-and-strptime-format-codes](https://docs.python.org/3/library/datetime.html#strftime-and-strptime-format-codes))"
   ],
   "cell_type": "markdown",
   "metadata": {}
  },
  {
   "cell_type": "code",
   "execution_count": 16,
   "metadata": {},
   "outputs": [
    {
     "output_type": "stream",
     "name": "stdout",
     "text": [
      "735000th day since Jan 1st, AC 1: 2013-05-12\nISO format: 2013-05-12\nSlash-delimited format: 12/05/13\nMac's date format: Sunday, May 12, 2013\nC standard format: Sun May 12 00:00:00 2013\nThe day is 12, the month is May.\n"
     ]
    }
   ],
   "source": [
    "from datetime import date\n",
    "d = date.fromordinal(735000) \n",
    "\n",
    "print(\"735000th day since Jan 1st, AC 1:\", d)\n",
    "print(\"ISO format:\", d.isoformat())\n",
    "print(\"Slash-delimited format:\", d.strftime(\"%d/%m/%y\"))\n",
    "print(\"Mac's date format:\", d.strftime(\"%A, %B %d, %Y\"))\n",
    "print(\"C standard format:\", d.ctime())\n",
    "print('The {1} is {0:%d}, the {2} is {0:%B}.'.format(d, 'day', 'month'))"
   ]
  },
  {
   "source": [
    "# Get a Dictionary of Month to Number"
   ],
   "cell_type": "markdown",
   "metadata": {}
  },
  {
   "cell_type": "code",
   "execution_count": 17,
   "metadata": {},
   "outputs": [
    {
     "output_type": "stream",
     "name": "stdout",
     "text": [
      "calendar.month_abbr: <calendar._localized_month object at 0x1098616a0>\ncalendar.month_abbr[0]: \ncalendar.month_abbr[1]: Jan\n"
     ]
    },
    {
     "output_type": "execute_result",
     "data": {
      "text/plain": [
       "{'': 0,\n",
       " 'Jan': 1,\n",
       " 'Feb': 2,\n",
       " 'Mar': 3,\n",
       " 'Apr': 4,\n",
       " 'May': 5,\n",
       " 'Jun': 6,\n",
       " 'Jul': 7,\n",
       " 'Aug': 8,\n",
       " 'Sep': 9,\n",
       " 'Oct': 10,\n",
       " 'Nov': 11,\n",
       " 'Dec': 12}"
      ]
     },
     "metadata": {},
     "execution_count": 17
    }
   ],
   "source": [
    "import calendar\n",
    "print(\"calendar.month_abbr:\", calendar.month_abbr)\n",
    "print(\"calendar.month_abbr[0]:\", calendar.month_abbr[0])\n",
    "print(\"calendar.month_abbr[1]:\", calendar.month_abbr[1])\n",
    "{v : k for k, v in enumerate(calendar.month_abbr)}"
   ]
  },
  {
   "source": [
    "# Setting Timezone Offset\n",
    "\n",
    "* When `hours < 0`, minutes **MUST ALSO BE NEGATIVE** (HackerRank: [Time Delta](https://www.hackerrank.com/challenges/python-time-delta/problem))"
   ],
   "cell_type": "markdown",
   "metadata": {}
  },
  {
   "cell_type": "code",
   "execution_count": 18,
   "metadata": {},
   "outputs": [
    {
     "output_type": "execute_result",
     "data": {
      "text/plain": [
       "'2020-12-18T00:00:00-06:39'"
      ]
     },
     "metadata": {},
     "execution_count": 18
    }
   ],
   "source": [
    "from datetime import tzinfo, timedelta, datetime\n",
    "class TZ(tzinfo):\n",
    "    \"\"\"A timezone with an arbitrary, constant -06:39 offset.\"\"\"\n",
    "    def utcoffset(self, dt):\n",
    "        return timedelta(hours=-6, minutes=-39)\n",
    "datetime(2020, 12, 18, tzinfo=TZ()).isoformat()"
   ]
  },
  {
   "source": [
    "# Parsing a String Representing a DateTime\n",
    "* [strftime-strptime-behavior](https://docs.python.org/3/library/datetime.html#strftime-strptime-behavior)"
   ],
   "cell_type": "markdown",
   "metadata": {}
  },
  {
   "cell_type": "code",
   "execution_count": 19,
   "metadata": {},
   "outputs": [
    {
     "output_type": "error",
     "ename": "SyntaxError",
     "evalue": "invalid syntax (<ipython-input-19-a15279d2853d>, line 2)",
     "traceback": [
      "\u001b[0;36m  File \u001b[0;32m\"<ipython-input-19-a15279d2853d>\"\u001b[0;36m, line \u001b[0;32m2\u001b[0m\n\u001b[0;31m    print(d.)\u001b[0m\n\u001b[0m            ^\u001b[0m\n\u001b[0;31mSyntaxError\u001b[0m\u001b[0;31m:\u001b[0m invalid syntax\n"
     ]
    }
   ],
   "source": [
    "d = datetime.strptime(\"Saturday, December 19, 2020\", \"%A, %B %d, %Y\")\n",
    "print(d.)"
   ]
  },
  {
   "source": [
    "# timedelta"
   ],
   "cell_type": "markdown",
   "metadata": {}
  },
  {
   "cell_type": "code",
   "execution_count": 45,
   "metadata": {},
   "outputs": [
    {
     "output_type": "stream",
     "name": "stdout",
     "text": [
      "Difference of d2 and d in  86400.0\n"
     ]
    }
   ],
   "source": [
    "d2 = datetime.strptime(\"Sunday, December 20, 2020\", \"%A, %B %d, %Y\")\n",
    "dt = d2 - d # datetime.timedelta\n",
    "print(\"Difference of d2 and d in \", dt.total_seconds())"
   ]
  },
  {
   "source": [
    "# F-String"
   ],
   "cell_type": "markdown",
   "metadata": {}
  },
  {
   "cell_type": "code",
   "execution_count": 4,
   "metadata": {},
   "outputs": [
    {
     "output_type": "execute_result",
     "data": {
      "text/plain": [
       "'Alice -- Hi --> Bob'"
      ]
     },
     "metadata": {},
     "execution_count": 4
    }
   ],
   "source": [
    "def greet(sender, receiver):\n",
    "  return f'{sender} -- Hi --> {receiver}'\n",
    "\n",
    "greet(\"Alice\", \"Bob\")\n"
   ]
  },
  {
   "source": [
    "# The Power operator is `**`"
   ],
   "cell_type": "markdown",
   "metadata": {}
  },
  {
   "cell_type": "code",
   "execution_count": 4,
   "metadata": {},
   "outputs": [
    {
     "output_type": "stream",
     "name": "stdout",
     "text": [
      "2 ** 3 = 8\n2 ** 3 * 5 = 40\n"
     ]
    }
   ],
   "source": [
    "print(\"2 ** 3 =\", 2**3)\n",
    "print(\"2 ** 3 * 5 =\",2 ** 3 * 5)"
   ]
  },
  {
   "source": [
    "# How to Conduct a Table Testing with Pytest?\n",
    "\n",
    "Utilize [`@pytest.mark.parametrize`](https://docs.pytest.org/en/2.9.0/parametrize.html#parametrize-basics)."
   ],
   "cell_type": "markdown",
   "metadata": {}
  },
  {
   "cell_type": "code",
   "execution_count": 2,
   "metadata": {},
   "outputs": [],
   "source": [
    "import pytest\n",
    "@pytest.mark.parametrize(\"input,want\", [\n",
    "  (0, 1),\n",
    "  (1, 2),\n",
    "  (2, 4)\n",
    "  ]\n",
    ")\n",
    "\n",
    "def testPowerOfTwo(input, want):\n",
    "  assert 2 ** input == want"
   ]
  },
  {
   "source": [
    "# collections.deque\n",
    "\n",
    "* double-ended queue\n",
    "* linked list (c.f. Python's default lists are dynamic array)\n",
    "  * insertion in the middle of the list takes only `O(1)` time\n",
    "  * in exchage, indexing takes `O(n)` time"
   ],
   "cell_type": "markdown",
   "metadata": {}
  },
  {
   "cell_type": "code",
   "execution_count": 5,
   "metadata": {},
   "outputs": [
    {
     "output_type": "stream",
     "name": "stdout",
     "text": [
      "deque(['a', 'x', 'b'])\na\nx\n"
     ]
    }
   ],
   "source": [
    "from collections import deque\n",
    "\n",
    "deq = deque()\n",
    "deq.append(\"a\") # O(1)\n",
    "deq.append(\"b\")\n",
    "deq.insert(1, \"x\") # O(1)\n",
    "print(deq)\n",
    "print(deq.popleft()) # O(1)\n",
    "print(deq.popleft())"
   ]
  },
  {
   "source": [
    "## List Rotation"
   ],
   "cell_type": "markdown",
   "metadata": {}
  },
  {
   "cell_type": "code",
   "execution_count": 2,
   "metadata": {},
   "outputs": [
    {
     "output_type": "stream",
     "name": "stdout",
     "text": [
      "Rotate 1 item to the right: deque([5, 1, 2, 3, 4])\nRotate 1 item back to the left: deque([1, 2, 3, 4, 5])\n"
     ]
    }
   ],
   "source": [
    "from collections import deque\n",
    "\n",
    "deq = deque([1, 2, 3, 4, 5])\n",
    "deq.rotate(1)\n",
    "print(\"Rotate 1 item to the right:\", deq)\n",
    "deq.rotate(-1)\n",
    "print(\"Rotate 1 item back to the left:\", deq)"
   ]
  },
  {
   "source": [
    "# Set and Frozenset\n",
    "\n",
    "Sets and Frozensets are data structures that represent unordered group of items. **A set is mutable, while a frozenset is immutable.**"
   ],
   "cell_type": "markdown",
   "metadata": {}
  },
  {
   "cell_type": "code",
   "execution_count": 1,
   "metadata": {},
   "outputs": [
    {
     "output_type": "stream",
     "name": "stdout",
     "text": [
      "s1 and s2 have some overlap\n"
     ]
    }
   ],
   "source": [
    "s1 = \"hello\"\n",
    "s2 = \"world\"\n",
    "\n",
    "if frozenset(s1).isdisjoint(s2):\n",
    "    print(\"s1 and s2 are disjoint\")\n",
    "else:\n",
    "    print(\"s1 and s2 have some overlap\")"
   ]
  },
  {
   "source": [
    "## Set items must be hashable\n",
    "\n",
    "`dict` is not hashable, therefore cannot be a member of a set. The following example shows that the result of creating a set from a dictionary is actually a set of keys.\n"
   ],
   "cell_type": "markdown",
   "metadata": {}
  },
  {
   "cell_type": "code",
   "execution_count": 7,
   "metadata": {},
   "outputs": [
    {
     "output_type": "error",
     "ename": "TypeError",
     "evalue": "unhashable type: 'dict'",
     "traceback": [
      "\u001b[0;31m---------------------------------------------------------------------------\u001b[0m",
      "\u001b[0;31mTypeError\u001b[0m                                 Traceback (most recent call last)",
      "\u001b[0;32m<ipython-input-7-23511d66d62c>\u001b[0m in \u001b[0;36m<module>\u001b[0;34m\u001b[0m\n\u001b[1;32m      1\u001b[0m \u001b[0ma\u001b[0m \u001b[0;34m=\u001b[0m \u001b[0mset\u001b[0m\u001b[0;34m(\u001b[0m\u001b[0;34m)\u001b[0m\u001b[0;34m\u001b[0m\u001b[0;34m\u001b[0m\u001b[0m\n\u001b[0;32m----> 2\u001b[0;31m a.add({\n\u001b[0m\u001b[1;32m      3\u001b[0m     \u001b[0;34m\"l\"\u001b[0m\u001b[0;34m:\u001b[0m \u001b[0;36m1\u001b[0m\u001b[0;34m,\u001b[0m\u001b[0;34m\u001b[0m\u001b[0;34m\u001b[0m\u001b[0m\n\u001b[1;32m      4\u001b[0m     \u001b[0;34m\"s\"\u001b[0m\u001b[0;34m:\u001b[0m \u001b[0;36m5\u001b[0m\u001b[0;34m,\u001b[0m\u001b[0;34m\u001b[0m\u001b[0;34m\u001b[0m\u001b[0m\n\u001b[1;32m      5\u001b[0m     \u001b[0;34m\"p\"\u001b[0m\u001b[0;34m:\u001b[0m \u001b[0;36m3\u001b[0m\u001b[0;34m,\u001b[0m\u001b[0;34m\u001b[0m\u001b[0;34m\u001b[0m\u001b[0m\n",
      "\u001b[0;31mTypeError\u001b[0m: unhashable type: 'dict'"
     ]
    }
   ],
   "source": [
    "a = set()\n",
    "a.add({\n",
    "    \"l\": 1,\n",
    "    \"s\": 5,\n",
    "    \"p\": 3,\n",
    "    \"n\": 1,\n",
    "    \"candies\": 0\n",
    "})\n",
    "print(\"a=\", wfs)"
   ]
  },
  {
   "cell_type": "code",
   "execution_count": 8,
   "metadata": {},
   "outputs": [
    {
     "output_type": "stream",
     "name": "stdout",
     "text": [
      "b= {(1, 2, 0, 5)}\n"
     ]
    }
   ],
   "source": [
    "b = set()\n",
    "b.add((1, 2, 0, 5))\n",
    "print(\"b=\", b)"
   ]
  },
  {
   "source": [
    "# Array\n",
    "\n",
    "Arrays compactly represent a sequence of basic values. The type is specified at object creation time by using a *type code*, which is a single character.\n",
    "\n",
    "* `'i'`: int\n",
    "* `'I'`: unsigned int\n",
    "* `'l'`: long\n",
    "* `'L'`: unsigned long\n",
    "* `'f'`: float\n",
    "* `'d'`: double"
   ],
   "cell_type": "markdown",
   "metadata": {}
  },
  {
   "cell_type": "code",
   "execution_count": 2,
   "metadata": {},
   "outputs": [
    {
     "output_type": "stream",
     "name": "stdout",
     "text": [
      "array('i', [1, 0, -1])\n"
     ]
    }
   ],
   "source": [
    "from array import array\n",
    "\n",
    "a = array('i', [1, 0, -1])\n",
    "print(a)"
   ]
  },
  {
   "source": [
    "# f-String\n",
    "\n",
    "You can intuitively format string using f string."
   ],
   "cell_type": "markdown",
   "metadata": {}
  },
  {
   "cell_type": "code",
   "execution_count": 6,
   "metadata": {},
   "outputs": [
    {
     "output_type": "stream",
     "name": "stdout",
     "text": [
      "Today is Tuesday, let's do push ups 10 times!\nYou can create a multiline f-string like this.\nIt means, you can write programatically generated poems of 10 line or more!\n"
     ]
    }
   ],
   "source": [
    "day = \"Tuesday\"\n",
    "reps = 10\n",
    "\n",
    "s = f\"Today is {day}, let's do push ups {reps} times!\"\n",
    "print(s)\n",
    "\n",
    "multiline = f\"\"\"You can create a multiline f-string like this.\n",
    "It means, you can write programatically generated poems of {reps} line or more!\"\"\"\n",
    "print(multiline)\n"
   ]
  },
  {
   "source": [
    "# Numeric Types\n",
    "\n",
    "There are only three numeric types in Python, `int`, `float`, and `complex`.\n",
    "\n",
    "## int\n",
    "\n",
    "Integers have unlimited precision.\n",
    "\n",
    "## float\n",
    "\n",
    "Floating point numbers are usually implemented using double in C.\n",
    "\n",
    "## complex\n",
    "\n",
    "Complex numbers have a real and an imaginary part, each of which is represented as a `float` number."
   ],
   "cell_type": "markdown",
   "metadata": {}
  },
  {
   "source": [
    "# collections module\n",
    "\n",
    "## Counter"
   ],
   "cell_type": "markdown",
   "metadata": {}
  },
  {
   "cell_type": "code",
   "execution_count": 4,
   "metadata": {},
   "outputs": [
    {
     "output_type": "stream",
     "name": "stdout",
     "text": [
      "3 most common elements: [('a', 3), ('b', 3), ('d', 2)]\ncounter.items(): dict_items([('a', 3), ('b', 3), ('d', 2), ('c', 2)])\n"
     ]
    }
   ],
   "source": [
    "from collections import Counter\n",
    "\n",
    "s = \"abdabdabcc\"\n",
    "counter = Counter(s)\n",
    "# Elements with equal counts are ordered in the order first encountered\n",
    "print(\"3 most common elements:\", counter.most_common(3))\n",
    "# You can also simply get all the elements in an unordered list\n",
    "print(\"counter.items():\", counter.items())\n"
   ]
  },
  {
   "source": [
    "# sorted\n",
    "\n",
    "`sorted(iterable, *, key=None, reverse=False) -> list`\n",
    "\n",
    "`sorted` returns a new sorted list in **ascending order**.\n",
    "\n",
    "`key` specifies a function of one argument that is used to extract a comparison key from each element in `iterable`."
   ],
   "cell_type": "markdown",
   "metadata": {}
  },
  {
   "cell_type": "code",
   "execution_count": 5,
   "metadata": {},
   "outputs": [
    {
     "output_type": "stream",
     "name": "stdout",
     "text": [
      "a =: [('a', 3), ('b', 3), ('c', 2), ('d', 2)]\na == b: True\n"
     ]
    }
   ],
   "source": [
    "items = [('d', 2), ('a', 3), ('c', 2), ('b', 3)]\n",
    "a = sorted(\n",
    "    items,\n",
    "    key = lambda tpl: (tpl[1], -ord(tpl[0])), # Prefer a tuple of a larger number. If the numbers are the same, prefer the former characters in the alphabet. \"Prefer\" means putting it to the back in the list.\n",
    "    reverse = True # Actually, we want our prefered items first in the list. So reverse it.\n",
    "    )\n",
    "b = sorted(\n",
    "    items,\n",
    "    key = lambda tpl: (-tpl[1], ord(tpl[0])) # Tip: Make the most preferable item's key the lowest to get it as the first element.\n",
    ")\n",
    "print(\"a =:\", a)\n",
    "print(\"a == b:\", a == b)"
   ]
  },
  {
   "source": [
    "# List Slice\n",
    "\n",
    "* Python's list slices are not a view to the original list\n",
    "* Python's list slices inevitably create another list..."
   ],
   "cell_type": "markdown",
   "metadata": {}
  },
  {
   "cell_type": "code",
   "execution_count": 6,
   "metadata": {},
   "outputs": [
    {
     "output_type": "stream",
     "name": "stdout",
     "text": [
      "a: [1, 2, 3, 4, 5, 6]\nb: [2, 3, 4]\nb[0] = 100\na: [1, 2, 3, 4, 5, 6]\nb: [100, 3, 4]\n"
     ]
    }
   ],
   "source": [
    "a = [1, 2, 3, 4, 5, 6]\n",
    "b = a[1:4]\n",
    "print(\"a:\", a)\n",
    "print(\"b:\", b)\n",
    "b[0] = 100\n",
    "print(\"b[0] = 100\")\n",
    "print(\"a:\", a)\n",
    "print(\"b:\", b)"
   ]
  },
  {
   "source": [
    "# Custom Data Structures\n",
    "\n",
    "## Linked List"
   ],
   "cell_type": "markdown",
   "metadata": {}
  },
  {
   "cell_type": "code",
   "execution_count": 33,
   "metadata": {},
   "outputs": [
    {
     "output_type": "stream",
     "name": "stdout",
     "text": [
      "a -> b -> c -> None\nTraversing the custom linked list!!\na\nb\nc\nadd_first\nf -> a -> b -> c -> None\nadd_last\nf -> a -> b -> c -> l -> None\nadd_after(b, Node(\"x\"))\nf -> a -> b -> x -> c -> l -> None\n"
     ]
    }
   ],
   "source": [
    "class LinkedList:\n",
    "    def __init__(self, nodes = None):\n",
    "        if nodes == None or len(nodes) == 0:\n",
    "            self.head = None\n",
    "        else:\n",
    "            node = Node(nodes.pop(0))\n",
    "            self.head = node\n",
    "            for item in nodes:\n",
    "                node.next = Node(item)\n",
    "                node = node.next\n",
    "    \n",
    "    def __repr__(self):\n",
    "        node = self.head\n",
    "        nodes = []\n",
    "        while node is not None:\n",
    "            nodes.append(node.data)\n",
    "            node = node.next\n",
    "        nodes.append(None.__str__())\n",
    "        return \" -> \".join(nodes)\n",
    "\n",
    "    def __iter__(self):\n",
    "        node = self.head\n",
    "        while node is not None:\n",
    "            yield node\n",
    "            node = node.next\n",
    "\n",
    "    def add_first(self, elem):\n",
    "        node = Node(elem)\n",
    "        node.next = self.head\n",
    "        self.head = node\n",
    "\n",
    "    def add_last(self, elem):\n",
    "        node = self.head\n",
    "        while node.next is not None:\n",
    "            node = node.next\n",
    "        node.next = Node(elem)\n",
    "\n",
    "    def add_after(self, target, nodeToAdd):\n",
    "        if self.head == None:\n",
    "            raise Exception(\"List is empty\")\n",
    "        node = self.head\n",
    "        while node is not None:\n",
    "            if node.data == target:\n",
    "                nodeToAdd.next = node.next\n",
    "                node.next = nodeToAdd\n",
    "                return\n",
    "            node = node.next\n",
    "        raise Exception(f\"Node with data '{target}'' not found\")\n",
    "        \n",
    "\n",
    "class Node:\n",
    "    def __init__(self, data):\n",
    "        self.data = data\n",
    "        self.next = None\n",
    "\n",
    "    def __repr__(self):\n",
    "        return self.data\n",
    "\n",
    "llist = LinkedList(nodes=[\"a\", \"b\", \"c\"])\n",
    "print(llist)\n",
    "\n",
    "print(\"Traversing the custom linked list!!\")\n",
    "for node in llist:\n",
    "    print(node)\n",
    "\n",
    "print(\"add_first\")\n",
    "llist.add_first(\"f\")\n",
    "print(llist)\n",
    "\n",
    "print(\"add_last\")\n",
    "llist.add_last(\"l\")\n",
    "print(llist)\n",
    "\n",
    "print('add_after(b, Node(\"x\"))')\n",
    "llist.add_after(\"b\", Node(\"x\"))\n",
    "print(llist)"
   ]
  },
  {
   "cell_type": "code",
   "execution_count": null,
   "metadata": {},
   "outputs": [],
   "source": []
  }
 ]
}