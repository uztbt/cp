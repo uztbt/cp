{
 "metadata": {
  "language_info": {
   "codemirror_mode": {
    "name": "ipython",
    "version": 3
   },
   "file_extension": ".py",
   "mimetype": "text/x-python",
   "name": "python",
   "nbconvert_exporter": "python",
   "pygments_lexer": "ipython3",
   "version": "3.9.2"
  },
  "orig_nbformat": 2,
  "kernelspec": {
   "name": "python3",
   "display_name": "Python 3.9.2 64-bit",
   "metadata": {
    "interpreter": {
     "hash": "ac2eaa0ea0ebeafcc7822e65e46aa9d4f966f30b695406963e145ea4a91cd4fc"
    }
   }
  }
 },
 "nbformat": 4,
 "nbformat_minor": 2,
 "cells": [
  {
   "source": [
    "# Create a map of alphabet"
   ],
   "cell_type": "markdown",
   "metadata": {}
  },
  {
   "source": [
    "codePoints = range(ord(\"a\"), ord(\"z\")+1)\n",
    "alphabet = map(chr, codePoints)\n",
    "for letter in alphabet:\n",
    "    print(letter)"
   ],
   "cell_type": "code",
   "metadata": {},
   "execution_count": null,
   "outputs": []
  },
  {
   "source": [
    "# Tuples"
   ],
   "cell_type": "markdown",
   "metadata": {}
  },
  {
   "cell_type": "code",
   "execution_count": 3,
   "metadata": {},
   "outputs": [
    {
     "output_type": "stream",
     "name": "stdout",
     "text": [
      "hoge\n"
     ]
    }
   ],
   "source": [
    "t = (2, \"hoge\")\n",
    "print(t[1])"
   ]
  },
  {
   "source": [
    "# List of Tuples"
   ],
   "cell_type": "markdown",
   "metadata": {}
  },
  {
   "cell_type": "code",
   "execution_count": 4,
   "metadata": {},
   "outputs": [
    {
     "output_type": "stream",
     "name": "stdout",
     "text": [
      "[1, 2]\n"
     ]
    }
   ],
   "source": [
    "a = []\n",
    "a += (1, 2)\n",
    "print(a)"
   ]
  },
  {
   "cell_type": "code",
   "execution_count": 5,
   "metadata": {},
   "outputs": [
    {
     "output_type": "stream",
     "name": "stdout",
     "text": [
      "[(1, 2)]\n"
     ]
    }
   ],
   "source": [
    "a = []\n",
    "a.append((1, 2))\n",
    "print(a)"
   ]
  },
  {
   "source": [
    "# Types of Division"
   ],
   "cell_type": "markdown",
   "metadata": {}
  },
  {
   "cell_type": "code",
   "execution_count": 6,
   "metadata": {},
   "outputs": [
    {
     "output_type": "stream",
     "name": "stdout",
     "text": [
      "1.3333333333333333\n1\n"
     ]
    }
   ],
   "source": [
    "print(4/3)\n",
    "print(4//3)"
   ]
  },
  {
   "source": [
    "# Date and Time"
   ],
   "cell_type": "markdown",
   "metadata": {}
  },
  {
   "cell_type": "code",
   "execution_count": 10,
   "metadata": {},
   "outputs": [
    {
     "output_type": "stream",
     "name": "stdout",
     "text": [
      "740000th day since Jan. 1st, AC 1: 2027-01-19\n\nISO format: 2027-01-19\nSlash-delimited format: 19/01/27\nMac's date format: Tuesday, January 19, 2027\n\n"
     ]
    }
   ],
   "source": [
    "from datetime import date\n",
    "passedDays = 740000\n",
    "d = date.fromordinal(passedDays)\n",
    "\n",
    "print(f\"{passedDays}th day since Jan. 1st, AC 1: {d}\")\n",
    "print (f'''\n",
    "ISO format: {d.isoformat()}\n",
    "Slash-delimited format: {d.strftime(\"%d/%m/%y\")}\n",
    "Mac's date format: {d.strftime(\"%A, %B %d, %Y\")}\n",
    "''')"
   ]
  },
  {
   "source": [
    "# Get a Dictionary of Month to Number"
   ],
   "cell_type": "markdown",
   "metadata": {}
  },
  {
   "source": [
    "import calendar\n",
    "print(f\"\"\"calendar.month_abbr: {calendar.month_abbr}\n",
    "calendar.month_abbr[0]: {calendar.month_abbr[0]}\n",
    "calendar.month_abbr[1]: {calendar.month_abbr[1]}\n",
    "{ {v: k for k, v in enumerate(calendar.month_abbr)} }\n",
    "\"\"\")"
   ],
   "cell_type": "code",
   "metadata": {},
   "execution_count": 12,
   "outputs": [
    {
     "output_type": "stream",
     "name": "stdout",
     "text": [
      "calendar.month_abbr: <calendar._localized_month object at 0x10310f6a0>\ncalendar.month_abbr[0]: \ncalendar.month_abbr[1]: Jan\n{'': 0, 'Jan': 1, 'Feb': 2, 'Mar': 3, 'Apr': 4, 'May': 5, 'Jun': 6, 'Jul': 7, 'Aug': 8, 'Sep': 9, 'Oct': 10, 'Nov': 11, 'Dec': 12}\n\n"
     ]
    }
   ]
  },
  {
   "source": [
    "# The Power Operator is **"
   ],
   "cell_type": "markdown",
   "metadata": {}
  },
  {
   "cell_type": "code",
   "execution_count": 13,
   "metadata": {},
   "outputs": [
    {
     "output_type": "stream",
     "name": "stdout",
     "text": [
      "2**3=8\n"
     ]
    }
   ],
   "source": [
    "print(f\"2**3={2**3}\")"
   ]
  },
  {
   "source": [
    "# collections.deque\n",
    "\n",
    "* a double-ended queue\n",
    "* linked list (c.f. Python's default lists are dynamic arrays)\n",
    "    * Insertion in the middle of the list takes only `O(1)` time\n",
    "    * In exchange, indexing takes `O(n)` time"
   ],
   "cell_type": "markdown",
   "metadata": {}
  },
  {
   "cell_type": "code",
   "execution_count": 14,
   "metadata": {},
   "outputs": [
    {
     "output_type": "stream",
     "name": "stdout",
     "text": [
      "deque(['a', 'x', 'b'])\na\nx\n"
     ]
    }
   ],
   "source": [
    "from collections import deque\n",
    "\n",
    "deq = deque()\n",
    "deq.append(\"a\")\n",
    "deq.append(\"b\")\n",
    "deq.insert(1, \"x\") # Insert an element at index 1\n",
    "print(deq)\n",
    "print(deq.popleft())\n",
    "print(deq.popleft())"
   ]
  },
  {
   "source": [
    "# List Rotation"
   ],
   "cell_type": "markdown",
   "metadata": {}
  },
  {
   "cell_type": "code",
   "execution_count": 16,
   "metadata": {},
   "outputs": [
    {
     "output_type": "stream",
     "name": "stdout",
     "text": [
      "Rotate 1 item to the right: deque([5, 1, 2, 3, 4])\nRotate 1 item to the left: deque([1, 2, 3, 4, 5])\n"
     ]
    }
   ],
   "source": [
    "from collections import deque\n",
    "deq = deque([1, 2, 3, 4, 5])\n",
    "deq.rotate(1)\n",
    "print(f\"Rotate 1 item to the right: {deq}\")\n",
    "deq.rotate(-1)\n",
    "print(f\"Rotate 1 item to the left: {deq}\")"
   ]
  },
  {
   "source": [
    "# Set and Frozenset\n",
    "\n",
    "A set is mutable whereas a frozenset is immutable."
   ],
   "cell_type": "markdown",
   "metadata": {}
  },
  {
   "cell_type": "code",
   "execution_count": 18,
   "metadata": {},
   "outputs": [
    {
     "output_type": "stream",
     "name": "stdout",
     "text": [
      "hello and world have some overlap.\n"
     ]
    }
   ],
   "source": [
    "str1 = \"hello\"\n",
    "str2 = \"world\"\n",
    "\n",
    "if frozenset(str1).isdisjoint(str2):\n",
    "    print(f\"{str1} and {str2} are disjoint.\")\n",
    "else:\n",
    "    print(f\"{str1} and {str2} have some overlap.\")"
   ]
  },
  {
   "source": [
    "## Set Items Must Be Hashable"
   ],
   "cell_type": "markdown",
   "metadata": {}
  },
  {
   "cell_type": "code",
   "execution_count": 19,
   "metadata": {},
   "outputs": [
    {
     "output_type": "error",
     "ename": "TypeError",
     "evalue": "unhashable type: 'dict'",
     "traceback": [
      "\u001b[0;31m---------------------------------------------------------------------------\u001b[0m",
      "\u001b[0;31mTypeError\u001b[0m                                 Traceback (most recent call last)",
      "\u001b[0;32m<ipython-input-19-1a5aef3ae462>\u001b[0m in \u001b[0;36m<module>\u001b[0;34m\u001b[0m\n\u001b[1;32m      1\u001b[0m \u001b[0ma\u001b[0m \u001b[0;34m=\u001b[0m \u001b[0mset\u001b[0m\u001b[0;34m(\u001b[0m\u001b[0;34m)\u001b[0m\u001b[0;34m\u001b[0m\u001b[0;34m\u001b[0m\u001b[0m\n\u001b[0;32m----> 2\u001b[0;31m \u001b[0ma\u001b[0m\u001b[0;34m.\u001b[0m\u001b[0madd\u001b[0m\u001b[0;34m(\u001b[0m\u001b[0;34m{\u001b[0m\u001b[0;34m\"l\"\u001b[0m\u001b[0;34m:\u001b[0m \u001b[0;36m1\u001b[0m\u001b[0;34m,\u001b[0m  \u001b[0;34m\"s\"\u001b[0m\u001b[0;34m:\u001b[0m \u001b[0;36m5\u001b[0m\u001b[0;34m,\u001b[0m \u001b[0;34m\"p\"\u001b[0m\u001b[0;34m:\u001b[0m \u001b[0;36m3\u001b[0m\u001b[0;34m,\u001b[0m \u001b[0;34m\"n\"\u001b[0m\u001b[0;34m:\u001b[0m \u001b[0;36m1\u001b[0m\u001b[0;34m,\u001b[0m \u001b[0;34m\"candies\"\u001b[0m\u001b[0;34m:\u001b[0m \u001b[0;36m0\u001b[0m\u001b[0;34m}\u001b[0m\u001b[0;34m)\u001b[0m\u001b[0;34m\u001b[0m\u001b[0;34m\u001b[0m\u001b[0m\n\u001b[0m\u001b[1;32m      3\u001b[0m \u001b[0mprint\u001b[0m\u001b[0;34m(\u001b[0m\u001b[0;34mf\"a={a}\"\u001b[0m\u001b[0;34m)\u001b[0m\u001b[0;34m\u001b[0m\u001b[0;34m\u001b[0m\u001b[0m\n",
      "\u001b[0;31mTypeError\u001b[0m: unhashable type: 'dict'"
     ]
    }
   ],
   "source": [
    "a = set()\n",
    "a.add({\"l\": 1,  \"s\": 5, \"p\": 3, \"n\": 1, \"candies\": 0})\n",
    "print(f\"a={a}\")"
   ]
  },
  {
   "cell_type": "code",
   "execution_count": 21,
   "metadata": {},
   "outputs": [
    {
     "output_type": "stream",
     "name": "stdout",
     "text": [
      "a={(1, 2, 0, 5)}\n"
     ]
    }
   ],
   "source": [
    "a = set()\n",
    "a.add((1, 2, 0, 5))\n",
    "print(f\"a={a}\")"
   ]
  },
  {
   "source": [
    "# Array"
   ],
   "cell_type": "markdown",
   "metadata": {}
  },
  {
   "source": [
    "Arrays compactly represent a sequence of basic values. The type is specified at object creation timr using a type code, which is a single character."
   ],
   "cell_type": "markdown",
   "metadata": {}
  },
  {
   "cell_type": "code",
   "execution_count": 1,
   "metadata": {},
   "outputs": [
    {
     "output_type": "stream",
     "name": "stdout",
     "text": [
      "array('i', [1, 0, -1])\n"
     ]
    }
   ],
   "source": [
    "from array import array\n",
    "a = array('i', [1, 0, -1])\n",
    "print(a)"
   ]
  },
  {
   "source": [
    "# Counter"
   ],
   "cell_type": "markdown",
   "metadata": {}
  },
  {
   "cell_type": "code",
   "execution_count": 1,
   "metadata": {},
   "outputs": [
    {
     "output_type": "stream",
     "name": "stdout",
     "text": [
      "3 most common items: [('e', 5), ('d', 4), ('c', 3)])\n"
     ]
    }
   ],
   "source": [
    "from collections import Counter\n",
    "\n",
    "s = \"abbcccdeeedddee\"\n",
    "counter = Counter(s)\n",
    "print(f\"3 most common items: {counter.most_common(3)})\")"
   ]
  },
  {
   "source": [
    "# Sorted"
   ],
   "cell_type": "markdown",
   "metadata": {}
  },
  {
   "source": [
    "`sorted(iterable, *, key=None, reverse=False) -> list`\n",
    "`sorted` returns a new sorted list in the ascending order.\n",
    "In `key`, we specify a function that takes out each item from `iteratable` as an argument to extract a comparison key."
   ],
   "cell_type": "markdown",
   "metadata": {}
  },
  {
   "cell_type": "code",
   "execution_count": 4,
   "metadata": {},
   "outputs": [
    {
     "output_type": "stream",
     "name": "stdout",
     "text": [
      "a=[('a', 3), ('b', 3), ('c', 2), ('d', 2)]\nb=[('a', 3), ('b', 3), ('c', 2), ('d', 2)]\n"
     ]
    }
   ],
   "source": [
    "items = [('d', 2), ('a', 3), ('c', 2), ('b', 3)]\n",
    "a = sorted(items, key= lambda tpl: (tpl[1], -ord(tpl[0])), reverse=True)\n",
    "print(f\"a={a}\")\n",
    "b = sorted(items, key= lambda tpl: (-tpl[1], ord(tpl[0])))\n",
    "print(f\"b={b}\")"
   ]
  },
  {
   "source": [
    "# List Slice\n",
    "* Python's list slices are not a view to the original list\n",
    "* Python's list slices inevitably create another list..."
   ],
   "cell_type": "markdown",
   "metadata": {}
  },
  {
   "cell_type": "code",
   "execution_count": 7,
   "metadata": {},
   "outputs": [
    {
     "output_type": "stream",
     "name": "stdout",
     "text": [
      "a=[1, 2, 3, 4, 5, 6]\nb=[100, 3, 4]\n"
     ]
    }
   ],
   "source": [
    "a = [1, 2, 3, 4, 5, 6]\n",
    "b = a[1:4]\n",
    "b[0] = 100\n",
    "print(f\"a={a}\")\n",
    "print(f\"b={b}\")"
   ]
  },
  {
   "source": [
    "# Custom Data Structures\n",
    "## Linked List"
   ],
   "cell_type": "markdown",
   "metadata": {}
  },
  {
   "cell_type": "code",
   "execution_count": 7,
   "metadata": {},
   "outputs": [
    {
     "output_type": "stream",
     "name": "stdout",
     "text": [
      "3-> Tom\nadding an element before the first element\nHOGE-> 3-> Tom\nAdded 'x' after 3: HOGE-> 3-> x-> Tom\nAdded 'l' at last: HOGE-> 3-> x-> Tom-> l\n"
     ]
    }
   ],
   "source": [
    "class LinkedList:\n",
    "    def __init__(self, nodes = None):\n",
    "        if nodes == None or len(nodes) == 0:\n",
    "            self.head = None\n",
    "        else:\n",
    "            node = Node(nodes.pop(0))\n",
    "            self.head = node\n",
    "            for item in nodes:\n",
    "                node.next = Node(item)\n",
    "                node = node.next\n",
    "    \n",
    "    def __repr__(self):\n",
    "        node = self.head\n",
    "        nodes = []\n",
    "        while node is not None:\n",
    "            nodes.append(node.data.__str__())\n",
    "            node = node.next\n",
    "        return \"-> \".join(nodes)\n",
    "    \n",
    "    def __iter__(self):\n",
    "        node = self.head\n",
    "        while node is not None:\n",
    "            yield node\n",
    "            node = node.next\n",
    "\n",
    "    def add_first(self, elem):\n",
    "        node = Node(elem)\n",
    "        node.next = self.head\n",
    "        self.head = node\n",
    "\n",
    "    def add_last(self, elem):\n",
    "        node = self.head\n",
    "        while node.next is not None:\n",
    "            node = node.next\n",
    "        node.next = Node(elem)\n",
    "        node.next.next = None\n",
    "\n",
    "    def add_after(self, target, nodeToAdd):\n",
    "        node = self.head\n",
    "        if node is None:\n",
    "            raise Exception(\"List is empty\")\n",
    "        while node.data != target:\n",
    "            if node.next is None:\n",
    "                raise Exception(f\"Node with the target value ({target}) as data was not found\")\n",
    "            node = node.next\n",
    "        nodeToAdd.next = node.next\n",
    "        node.next = nodeToAdd\n",
    "\n",
    "class Node:\n",
    "    def __init__(self, data):\n",
    "        self.data = data\n",
    "        self.next = None\n",
    "    def __repr__(self):\n",
    "        return self.data\n",
    "\n",
    "llist = LinkedList(nodes = [3, \"Tom\"])\n",
    "print(llist)\n",
    "\n",
    "print(\"adding an element before the first element\")\n",
    "llist.add_first(\"HOGE\")\n",
    "print(llist)\n",
    "\n",
    "llist.add_after(3, Node(\"x\"))\n",
    "print(f\"Added 'x' after 3: {llist}\")\n",
    "\n",
    "llist.add_last(\"l\")\n",
    "print(f\"Added 'l' at last: {llist}\")"
   ]
  }
 ]
}